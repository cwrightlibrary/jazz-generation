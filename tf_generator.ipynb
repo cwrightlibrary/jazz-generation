{
 "cells": [
  {
   "cell_type": "markdown",
   "metadata": {},
   "source": [
    "# Tensorflow Music Generator\n",
    "From [this tutorial](https://www.tensorflow.org/tutorials/audio/music_generation)"
   ]
  },
  {
   "cell_type": "code",
   "execution_count": null,
   "metadata": {},
   "outputs": [],
   "source": [
    "import collections\n",
    "import datetime\n",
    "import fluidsynth\n",
    "import glob\n",
    "import numpy as np\n",
    "import os\n",
    "import pathlib\n",
    "import pandas as pd\n",
    "import pretty_midi\n",
    "import seaborn as sns\n",
    "import tensorflow as tf\n",
    "\n",
    "from IPython import display\n",
    "from matplotlib import pyplot as plt\n",
    "from typing import Optional"
   ]
  },
  {
   "cell_type": "code",
   "execution_count": null,
   "metadata": {},
   "outputs": [],
   "source": [
    "seed = 42\n",
    "# tf.random.set_seed(seed)\n",
    "np.random.seed(seed)\n",
    "\n",
    "# Sampling rate for audio playback\n",
    "_SAMPLING_RATE = 16000"
   ]
  },
  {
   "cell_type": "code",
   "execution_count": null,
   "metadata": {},
   "outputs": [],
   "source": [
    "data_dir = pathlib.Path.cwd().joinpath(\"mids\")\n",
    "filenames = glob.glob(str(data_dir.joinpath(\"*.mid\")))"
   ]
  },
  {
   "cell_type": "code",
   "execution_count": null,
   "metadata": {},
   "outputs": [],
   "source": [
    "sample_file = filenames[400]\n",
    "\n",
    "pm = pretty_midi.PrettyMIDI(sample_file)"
   ]
  },
  {
   "cell_type": "code",
   "execution_count": null,
   "metadata": {},
   "outputs": [],
   "source": [
    "def display_audio(pm: pretty_midi.PrettyMIDI, seconds=30):\n",
    "    waveform = pm.fluidsynth(fs=_SAMPLING_RATE)\n",
    "    \n",
    "    waveform_short = waveform[:seconds*_SAMPLING_RATE]\n",
    "    return display.Audio(waveform_short, rate=_SAMPLING_RATE)\n",
    "\n",
    "# display_audio(pm)"
   ]
  },
  {
   "cell_type": "code",
   "execution_count": 68,
   "metadata": {},
   "outputs": [
    {
     "name": "stdout",
     "output_type": "stream",
     "text": [
      "Number of instruments:  9\n",
      "Violin\n",
      "Acoustic Guitar (nylon)\n",
      "Tenor Sax\n",
      "String Ensemble 2\n",
      "Acoustic Grand Piano\n",
      "Acoustic Bass\n",
      "Vibraphone\n",
      "Electric Guitar (jazz)\n",
      "Whistle\n"
     ]
    }
   ],
   "source": [
    "print(\"Number of instruments: \", len(pm.instruments))\n",
    "# instrument = pm.instruments[0]\n",
    "# instrument_name = pretty_midi.program_to_instrument_name(instrument.program)\n",
    "# print(\"Instrument name:\", instrument_name)\n",
    "instrument = pm.instruments\n",
    "for ins in instrument:\n",
    "    print(pretty_midi.program_to_instrument_name(ins.program))"
   ]
  },
  {
   "cell_type": "code",
   "execution_count": null,
   "metadata": {},
   "outputs": [],
   "source": [
    "for i, note in enumerate(instrument.notes[:10]):\n",
    "    note_name = pretty_midi.note_number_to_name(note.pitch)\n",
    "    duration = note.end - note.start\n",
    "    print(f\"{i}: pitch={note.pitch}, note_name={note_name},\"\n",
    "          f\"duration={duration:.4f}\")"
   ]
  },
  {
   "cell_type": "code",
   "execution_count": 69,
   "metadata": {},
   "outputs": [],
   "source": [
    "def midi_to_notes(midi_file: str) -> pd.DataFrame:\n",
    "    pm = pretty_midi.PrettyMIDI(midi_file)\n",
    "    instrument_list = []\n",
    "    for i in range(len(pm.instruments)):\n",
    "        if pretty_midi.program_to_instrument_name(pm.instruments[i]).lower() in [\"guitar\", \"piano\"]:\n",
    "            instrument_list.append(pm.instruments[i])\n",
    "    for instrument in instrument_list:\n",
    "        notes = collections.defaultdict(list)\n",
    "        \n",
    "        sorted_notes = sorted(instrument.notes, key=lambda note: note.start)\n",
    "        prev_start = sorted_notes[0].start\n",
    "        \n",
    "        for note in sorted_notes:\n",
    "            start = note.start\n",
    "            end = note.end\n",
    "            notes[\"pitch\"].append(note.pitch)\n",
    "            notes[\"start\"].append(start)\n",
    "            notes[\"end\"].append(end)\n",
    "            notes[\"step\"].append(start - prev_start)\n",
    "            notes[\"duration\"].append(end - start)\n",
    "            prev_start = start\n",
    "        \n",
    "        return pd.DataFrame({name: np.array(value) for name, value in notes.items()})"
   ]
  },
  {
   "cell_type": "code",
   "execution_count": null,
   "metadata": {},
   "outputs": [],
   "source": [
    "raw_notes = midi_to_notes(sample_file)\n",
    "raw_notes.head()"
   ]
  },
  {
   "cell_type": "code",
   "execution_count": null,
   "metadata": {},
   "outputs": [],
   "source": [
    "get_note_names = np.vectorize(pretty_midi.note_number_to_name)\n",
    "sample_note_names = get_note_names(raw_notes[\"pitch\"])\n",
    "sample_note_names[:10]"
   ]
  }
 ],
 "metadata": {
  "kernelspec": {
   "display_name": "Python 3",
   "language": "python",
   "name": "python3"
  },
  "language_info": {
   "codemirror_mode": {
    "name": "ipython",
    "version": 3
   },
   "file_extension": ".py",
   "mimetype": "text/x-python",
   "name": "python",
   "nbconvert_exporter": "python",
   "pygments_lexer": "ipython3",
   "version": "3.10.13"
  }
 },
 "nbformat": 4,
 "nbformat_minor": 2
}
